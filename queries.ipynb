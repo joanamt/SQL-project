{
 "cells": [
  {
   "cell_type": "markdown",
   "id": "6826b707",
   "metadata": {},
   "source": [
    "### 1º Conectar MySQL ao Python"
   ]
  },
  {
   "cell_type": "code",
   "execution_count": 1,
   "id": "7fd86c36",
   "metadata": {},
   "outputs": [
    {
     "name": "stdout",
     "output_type": "stream",
     "text": [
      "Conexão bem sucedida\n"
     ]
    }
   ],
   "source": [
    "import mysql.connector\n",
    "\n",
    "harrypotter = mysql.connector.connect(host = 'localhost',user='root',passwd='password do teu root')\n",
    "\n",
    "#verificar se a conecção foi bem sucedida:\n",
    "\n",
    "if (harrypotter):\n",
    "    print('Conexão bem sucedida')\n",
    "else:\n",
    "    print('Conexão falhada')"
   ]
  },
  {
   "cell_type": "markdown",
   "id": "5ab2f72e",
   "metadata": {},
   "source": [
    "### 2º Verificar se as base de dados estão bem conectadas"
   ]
  },
  {
   "cell_type": "code",
   "execution_count": 2,
   "id": "fcf0fc84",
   "metadata": {},
   "outputs": [
    {
     "name": "stdout",
     "output_type": "stream",
     "text": [
      "('bd',)\n",
      "('final',)\n",
      "('harrypotter',)\n",
      "('harrypotterr',)\n",
      "('information_schema',)\n",
      "('mainstream',)\n",
      "('mydb',)\n",
      "('mysql',)\n",
      "('mystream',)\n",
      "('performance_schema',)\n"
     ]
    }
   ],
   "source": [
    "mycursor = harrypotter.cursor() #para comunicar atraves de MySQL\n",
    "mycursor.execute('Show databases') #para verificar se está bem conectado\n",
    "for db in mycursor:\n",
    "    print(db) #print a cada uma das bases de dados    "
   ]
  },
  {
   "cell_type": "markdown",
   "id": "b80c922c",
   "metadata": {},
   "source": [
    "### 3º Usar a base de dados e queries\n",
    "\n",
    "Neste caso, a nossa base de dados final já foi criada e corresponde à base de dados 'harrypotter', como indicada no output do passo 2, assim vai ser a que queremos usar e iremos verificar se as tabelas estão todas."
   ]
  },
  {
   "cell_type": "code",
   "execution_count": 3,
   "id": "cf58fa00",
   "metadata": {},
   "outputs": [
    {
     "name": "stdout",
     "output_type": "stream",
     "text": [
      "('aluno',)\n",
      "('cargo',)\n",
      "('competição',)\n",
      "('escola',)\n",
      "('feitiço',)\n",
      "('nome_do_feitiço',)\n",
      "('participação',)\n",
      "('professor',)\n",
      "('tipo_de_material',)\n",
      "('torneio',)\n",
      "('usa_feitiço',)\n",
      "('varinha',)\n"
     ]
    }
   ],
   "source": [
    "mycursor.execute('Use harrypotter')\n",
    "mycursor.execute('Show tables')\n",
    "for table in mycursor:\n",
    "    print(table)"
   ]
  },
  {
   "cell_type": "code",
   "execution_count": 4,
   "id": "099f8025",
   "metadata": {},
   "outputs": [
    {
     "name": "stdout",
     "output_type": "stream",
     "text": [
      "(23652345, 'Barty Crouch', datetime.date(1982, 10, 8), 234, 26, 'Muggle', None, 'Durmstrang', 'Gato', 21078)\n",
      "(12345679, 'Cedric Diggory', datetime.date(1979, 10, 1), 123, 13, 'Wizard', 'M', 'Gryffindor', 'Coruja', 12346)\n",
      "(31234443, 'Fleur Delacour', datetime.date(1978, 12, 13), 567, 43, 'Muggle', 'F', 'Beauxbatons', 'Peixe', 31234)\n",
      "(12345678, 'Harry Potter', datetime.date(1980, 1, 3), 123, 13, 'Muggle', 'M', 'Gryffindor', 'Coruja', 12345)\n",
      "(12345674, 'Hermione Granger', datetime.date(1980, 6, 9), 123, 13, 'Muggle', 'F', 'Gryffindor', None, 12349)\n",
      "(31234423, 'Perenelle Flamel', datetime.date(1982, 7, 9), 567, 43, 'Wizard', 'F', 'Beauxbatons', 'Peixe', 32134)\n",
      "(12345673, 'Ron Weasly', datetime.date(1980, 2, 4), 123, 13, 'Wizard', 'M', 'Gryffindor', 'Rato', 12348)\n",
      "(23456716, 'Viktor Klum', datetime.date(1979, 3, 21), 234, 26, 'Wizard', 'M', 'Durmstrang', 'Peixe', 21036)\n"
     ]
    }
   ],
   "source": [
    "mycursor.execute('Select * from aluno order by nome')\n",
    "myresult = mycursor.fetchall() #fetchall devolve todas as linhas\n",
    "for row in myresult:\n",
    "    print(row)\n",
    "    "
   ]
  },
  {
   "cell_type": "code",
   "execution_count": 5,
   "id": "2e923741",
   "metadata": {},
   "outputs": [
    {
     "name": "stdout",
     "output_type": "stream",
     "text": [
      "(1, 'Feitiço', 'Fácil')\n",
      "(2, 'Feitiço', 'Fácil')\n",
      "(3, 'Poção', 'Dificil')\n",
      "(4, 'Poção', 'Médio')\n",
      "(5, 'Poção', 'Médio')\n",
      "(6, 'Feitiço', 'Dificil')\n",
      "(7, 'Poção', 'Fácil')\n",
      "(8, 'Feitiço', 'Dificil')\n",
      "(9, 'Poção', 'Fácil')\n"
     ]
    }
   ],
   "source": [
    "mycursor.execute('Select * from feitiço')\n",
    "myresult = mycursor.fetchall()\n",
    "for row in myresult:\n",
    "    print(row)"
   ]
  },
  {
   "cell_type": "code",
   "execution_count": 6,
   "id": "800a3035",
   "metadata": {},
   "outputs": [
    {
     "name": "stdout",
     "output_type": "stream",
     "text": [
      "12345\n"
     ]
    }
   ],
   "source": [
    "mycursor.execute('Select Código from varinha') #devolve o primeiro código\n",
    "myresult = mycursor.fetchone()\n",
    "for row in myresult:\n",
    "    print(row)"
   ]
  },
  {
   "cell_type": "markdown",
   "id": "ee4e5061",
   "metadata": {},
   "source": [
    "### Atualizar a database com python"
   ]
  },
  {
   "cell_type": "code",
   "execution_count": 7,
   "id": "02867d3f",
   "metadata": {},
   "outputs": [
    {
     "name": "stdout",
     "output_type": "stream",
     "text": [
      "(23652345, 'Barty Crouch', datetime.date(1982, 10, 8), 234, 26, 'Muggle', None, 'Durmstrang', 'Gato', 21078)\n",
      "(12345679, 'Cedric Diggory', datetime.date(1979, 10, 1), 123, 13, 'Wizard', 'M', 'Gryffindor', 'Coruja', 12346)\n",
      "(31234443, 'Fleur Delacour', datetime.date(1978, 12, 13), 567, 43, 'Muggle', 'F', 'Beauxbatons', 'Peixe', 31234)\n",
      "(12345678, 'Harry Potter', datetime.date(1980, 1, 3), 123, 13, 'Muggle', 'M', 'Gryffindor', 'Cão', 12345)\n",
      "(12345674, 'Hermione Granger', datetime.date(1980, 6, 9), 123, 13, 'Muggle', 'F', 'Gryffindor', 'Cão', 12349)\n",
      "(31234423, 'Perenelle Flamel', datetime.date(1982, 7, 9), 567, 43, 'Wizard', 'F', 'Beauxbatons', 'Peixe', 32134)\n",
      "(12345673, 'Ron Weasly', datetime.date(1980, 2, 4), 123, 13, 'Wizard', 'M', 'Gryffindor', 'Rato', 12348)\n",
      "(23456716, 'Viktor Klum', datetime.date(1979, 3, 21), 234, 26, 'Wizard', 'M', 'Durmstrang', 'Peixe', 21036)\n"
     ]
    }
   ],
   "source": [
    "harrypotter = mysql.connector.connect(host = 'localhost',user='root',passwd='j7mzutwU_cris')\n",
    "mycursor = harrypotter.cursor()\n",
    "mycursor.execute('Use harrypotter')\n",
    "mycursor.execute(\"UPDATE ALUNO SET AnimalEstimação = 'Cão' WHERE Nome LIKE 'H%'\")\n",
    "harrypotter.commit()\n",
    "mycursor.execute('Select * from aluno order by nome,animalestimação')\n",
    "myresult = mycursor.fetchall() #fetchall devolve todas as linhas\n",
    "for row in myresult:\n",
    "    print(row)\n"
   ]
  },
  {
   "cell_type": "code",
   "execution_count": 8,
   "id": "3db9f7cf",
   "metadata": {},
   "outputs": [
    {
     "name": "stdout",
     "output_type": "stream",
     "text": [
      "['Beauxbatons', 2]\n",
      "['Durmstrang', 2]\n",
      "['Hogwarts', 2]\n"
     ]
    }
   ],
   "source": [
    "#contagem de quantos professores ha em cada escola\n",
    "mycursor.execute('Select ESCOLA.Nome, COUNT(PROFESSOR.Escola) from ESCOLA,PROFESSOR WHERE PROFESSOR.Escola = ESCOLA.Nome group by ESCOLA.nome order by ESCOLA.nome')\n",
    "myresult = mycursor.fetchall()\n",
    "l = [] #guardar os tuplos numa lista\n",
    "for row in myresult:\n",
    "    l.append(row)\n",
    "    \n",
    "for i in l:\n",
    "    print(list(i)) #passo de tuplo pra lista\n",
    "\n"
   ]
  }
 ],
 "metadata": {
  "kernelspec": {
   "display_name": "Python 3 (ipykernel)",
   "language": "python",
   "name": "python3"
  },
  "language_info": {
   "codemirror_mode": {
    "name": "ipython",
    "version": 3
   },
   "file_extension": ".py",
   "mimetype": "text/x-python",
   "name": "python",
   "nbconvert_exporter": "python",
   "pygments_lexer": "ipython3",
   "version": "3.10.8"
  }
 },
 "nbformat": 4,
 "nbformat_minor": 5
}
